{
 "cells": [
  {
   "cell_type": "code",
   "execution_count": 15,
   "metadata": {},
   "outputs": [],
   "source": [
    "# Import the dependencies.\n",
    "import pandas as pd\n",
    "import gmaps\n",
    "import gmaps.datasets\n",
    "import requests\n",
    "# Import the API key.\n",
    "from config import g_key"
   ]
  },
  {
   "cell_type": "code",
   "execution_count": 5,
   "metadata": {},
   "outputs": [
    {
     "data": {
      "text/html": [
       "<div>\n",
       "<style scoped>\n",
       "    .dataframe tbody tr th:only-of-type {\n",
       "        vertical-align: middle;\n",
       "    }\n",
       "\n",
       "    .dataframe tbody tr th {\n",
       "        vertical-align: top;\n",
       "    }\n",
       "\n",
       "    .dataframe thead th {\n",
       "        text-align: right;\n",
       "    }\n",
       "</style>\n",
       "<table border=\"1\" class=\"dataframe\">\n",
       "  <thead>\n",
       "    <tr style=\"text-align: right;\">\n",
       "      <th></th>\n",
       "      <th>City_ID</th>\n",
       "      <th>City</th>\n",
       "      <th>Country</th>\n",
       "      <th>Max Temp</th>\n",
       "      <th>Current Condition</th>\n",
       "      <th>Lat</th>\n",
       "      <th>Lng</th>\n",
       "      <th>Hotel Name</th>\n",
       "    </tr>\n",
       "  </thead>\n",
       "  <tbody>\n",
       "    <tr>\n",
       "      <th>0</th>\n",
       "      <td>0</td>\n",
       "      <td>Vila Velha</td>\n",
       "      <td>BR</td>\n",
       "      <td>82.00</td>\n",
       "      <td>broken clouds</td>\n",
       "      <td>-20.33</td>\n",
       "      <td>-40.29</td>\n",
       "      <td>Hotel Vitória Palace</td>\n",
       "    </tr>\n",
       "    <tr>\n",
       "      <th>1</th>\n",
       "      <td>1</td>\n",
       "      <td>Hithadhoo</td>\n",
       "      <td>MV</td>\n",
       "      <td>84.81</td>\n",
       "      <td>scattered clouds</td>\n",
       "      <td>-0.60</td>\n",
       "      <td>73.08</td>\n",
       "      <td>Scoop Guest House</td>\n",
       "    </tr>\n",
       "    <tr>\n",
       "      <th>2</th>\n",
       "      <td>4</td>\n",
       "      <td>Mahebourg</td>\n",
       "      <td>MU</td>\n",
       "      <td>77.00</td>\n",
       "      <td>scattered clouds</td>\n",
       "      <td>-20.41</td>\n",
       "      <td>57.70</td>\n",
       "      <td>Shandrani Beachcomber Resort &amp; Spa</td>\n",
       "    </tr>\n",
       "    <tr>\n",
       "      <th>3</th>\n",
       "      <td>10</td>\n",
       "      <td>Doume</td>\n",
       "      <td>CM</td>\n",
       "      <td>75.60</td>\n",
       "      <td>light rain</td>\n",
       "      <td>4.23</td>\n",
       "      <td>13.45</td>\n",
       "      <td>Hotel Universel</td>\n",
       "    </tr>\n",
       "    <tr>\n",
       "      <th>4</th>\n",
       "      <td>11</td>\n",
       "      <td>Narwar</td>\n",
       "      <td>IN</td>\n",
       "      <td>88.92</td>\n",
       "      <td>clear sky</td>\n",
       "      <td>25.65</td>\n",
       "      <td>77.90</td>\n",
       "      <td>हनुमान मन्दिर</td>\n",
       "    </tr>\n",
       "  </tbody>\n",
       "</table>\n",
       "</div>"
      ],
      "text/plain": [
       "   City_ID        City Country  Max Temp Current Condition    Lat    Lng  \\\n",
       "0        0  Vila Velha      BR     82.00     broken clouds -20.33 -40.29   \n",
       "1        1   Hithadhoo      MV     84.81  scattered clouds  -0.60  73.08   \n",
       "2        4   Mahebourg      MU     77.00  scattered clouds -20.41  57.70   \n",
       "3       10       Doume      CM     75.60        light rain   4.23  13.45   \n",
       "4       11      Narwar      IN     88.92         clear sky  25.65  77.90   \n",
       "\n",
       "                           Hotel Name  \n",
       "0                Hotel Vitória Palace  \n",
       "1                   Scoop Guest House  \n",
       "2  Shandrani Beachcomber Resort & Spa  \n",
       "3                     Hotel Universel  \n",
       "4                       हनुमान मन्दिर  "
      ]
     },
     "execution_count": 5,
     "metadata": {},
     "output_type": "execute_result"
    }
   ],
   "source": [
    "# Store the CSV you saved created in part one into a DataFrame.\n",
    "vacation_itin_df = pd.read_csv(\"weather_data/weatherPy_vacation.csv\")\n",
    "vacation_itin_df.head()"
   ]
  },
  {
   "cell_type": "code",
   "execution_count": 45,
   "metadata": {},
   "outputs": [
    {
     "data": {
      "text/html": [
       "<div>\n",
       "<style scoped>\n",
       "    .dataframe tbody tr th:only-of-type {\n",
       "        vertical-align: middle;\n",
       "    }\n",
       "\n",
       "    .dataframe tbody tr th {\n",
       "        vertical-align: top;\n",
       "    }\n",
       "\n",
       "    .dataframe thead th {\n",
       "        text-align: right;\n",
       "    }\n",
       "</style>\n",
       "<table border=\"1\" class=\"dataframe\">\n",
       "  <thead>\n",
       "    <tr style=\"text-align: right;\">\n",
       "      <th></th>\n",
       "      <th>City_ID</th>\n",
       "      <th>City</th>\n",
       "      <th>Country</th>\n",
       "      <th>Max Temp</th>\n",
       "      <th>Current Condition</th>\n",
       "      <th>Lat</th>\n",
       "      <th>Lng</th>\n",
       "      <th>Hotel Name</th>\n",
       "    </tr>\n",
       "  </thead>\n",
       "  <tbody>\n",
       "    <tr>\n",
       "      <th>65</th>\n",
       "      <td>206</td>\n",
       "      <td>Totness</td>\n",
       "      <td>SR</td>\n",
       "      <td>84.51</td>\n",
       "      <td>few clouds</td>\n",
       "      <td>5.88</td>\n",
       "      <td>-56.32</td>\n",
       "      <td>STAATS LOGEERGEBOUW TOTNESS</td>\n",
       "    </tr>\n",
       "    <tr>\n",
       "      <th>68</th>\n",
       "      <td>210</td>\n",
       "      <td>Pisco</td>\n",
       "      <td>PE</td>\n",
       "      <td>77.00</td>\n",
       "      <td>broken clouds</td>\n",
       "      <td>-13.70</td>\n",
       "      <td>-76.22</td>\n",
       "      <td>Hostal San Isidro Oficial</td>\n",
       "    </tr>\n",
       "    <tr>\n",
       "      <th>110</th>\n",
       "      <td>312</td>\n",
       "      <td>Jaru</td>\n",
       "      <td>BR</td>\n",
       "      <td>81.46</td>\n",
       "      <td>overcast clouds</td>\n",
       "      <td>-10.44</td>\n",
       "      <td>-62.47</td>\n",
       "      <td>Hotel Paraná</td>\n",
       "    </tr>\n",
       "    <tr>\n",
       "      <th>125</th>\n",
       "      <td>344</td>\n",
       "      <td>Aracaju</td>\n",
       "      <td>BR</td>\n",
       "      <td>86.00</td>\n",
       "      <td>scattered clouds</td>\n",
       "      <td>-10.91</td>\n",
       "      <td>-37.07</td>\n",
       "      <td>HOTEL FÊNIX</td>\n",
       "    </tr>\n",
       "  </tbody>\n",
       "</table>\n",
       "</div>"
      ],
      "text/plain": [
       "     City_ID     City Country  Max Temp Current Condition    Lat    Lng  \\\n",
       "65       206  Totness      SR     84.51        few clouds   5.88 -56.32   \n",
       "68       210    Pisco      PE     77.00     broken clouds -13.70 -76.22   \n",
       "110      312     Jaru      BR     81.46   overcast clouds -10.44 -62.47   \n",
       "125      344  Aracaju      BR     86.00  scattered clouds -10.91 -37.07   \n",
       "\n",
       "                      Hotel Name  \n",
       "65   STAATS LOGEERGEBOUW TOTNESS  \n",
       "68     Hostal San Isidro Oficial  \n",
       "110                 Hotel Paraná  \n",
       "125                  HOTEL FÊNIX  "
      ]
     },
     "execution_count": 45,
     "metadata": {},
     "output_type": "execute_result"
    }
   ],
   "source": [
    "#Filter the DataFrame for each city you want to go to and create separate DataFrames for each city.\n",
    "latin_america_df = vacation_itin_df.loc[(vacation_itin_df[\"City\"]==\"Pisco\") |\n",
    "                                        (vacation_itin_df[\"City\"]==\"Jaru\") |\n",
    "                                       (vacation_itin_df[\"City\"]==\"Totness\") |\n",
    "                                       (vacation_itin_df[\"City\"]==\"Aracaju\")]\n",
    "pisco_df = latin_america_df.loc[latin_america_df[\"City\"]==\"Pisco\"]\n",
    "Jaru_df = latin_america_df.loc[latin_america_df[\"City\"]==\"Jaru\"]\n",
    "Totness_df = latin_america_df.loc[latin_america_df[\"City\"]==\"Totness\"]\n",
    "Aracaju_df = latin_america_df.loc[latin_america_df[\"City\"]==\"Aracaju\"]\n",
    "latin_america_df"
   ]
  },
  {
   "cell_type": "code",
   "execution_count": 62,
   "metadata": {},
   "outputs": [
    {
     "data": {
      "text/plain": [
       "(-10.91, -37.07)"
      ]
     },
     "execution_count": 62,
     "metadata": {},
     "output_type": "execute_result"
    }
   ],
   "source": [
    "# get latitude and longitude for Pisco\n",
    "pisco_lat = Jaru_df[\"Lat\"]\n",
    "pisco_lng = pisco_df[\"Lng\"]\n",
    "pisco_lat_lng = zip(pisco_lat, pisco_lng)\n",
    "pisco_coordinates = list(pisco_lat_lng)\n",
    "\n",
    "# get latitude and longitude for Jaru\n",
    "Jaru_lat = Jaru_df[\"Lat\"]\n",
    "Jaru_lng = Jaru_df[\"Lng\"]\n",
    "Jaru_lat_lng = zip(Jaru_lat, Jaru_lng)\n",
    "Jaru_coordinates = list(Jaru_lat_lng)\n",
    "\n",
    "# get latitude and longitude for Totness\n",
    "Totness_lat = Totness_df[\"Lat\"]\n",
    "Totness_lng = Totness_df[\"Lng\"]\n",
    "Totness_lat_lng = zip(Totness_lat, Totness_lng)\n",
    "Totness_coordinates = list(Totness_lat_lng)\n",
    "\n",
    "# get latitude and longitude for Aracaju\n",
    "Aracaju_lat = Aracaju_df[\"Lat\"]\n",
    "Aracaju_lng = Aracaju_df[\"Lng\"]\n",
    "Aracaju_lat_lng = zip(Aracaju_lat, Aracaju_lng)\n",
    "Aracaju_coordinates = list(Aracaju_lat_lng)\n",
    "Aracaju_coordinates[0]"
   ]
  },
  {
   "cell_type": "code",
   "execution_count": 67,
   "metadata": {},
   "outputs": [],
   "source": [
    "info_box_template = \"\"\"\n",
    "<dl>\n",
    "<dt>Hotel Name</dt><dd>{Hotel Name}</dd>\n",
    "<dt>City</dt><dd>{City}</dd>\n",
    "<dt>Country</dt><dd>{Country}</dd>\n",
    "<dt>Current Condition</dt><dd>{Current Condition}</dd>\n",
    "</dl>\n",
    "\"\"\""
   ]
  },
  {
   "cell_type": "code",
   "execution_count": 71,
   "metadata": {},
   "outputs": [
    {
     "data": {
      "text/plain": [
       "['\\n<dl>\\n<dt>Hotel Name</dt><dd>STAATS LOGEERGEBOUW TOTNESS</dd>\\n<dt>City</dt><dd>Totness</dd>\\n<dt>Country</dt><dd>SR</dd>\\n<dt>Current Condition</dt><dd>few clouds</dd>\\n</dl>\\n',\n",
       " '\\n<dl>\\n<dt>Hotel Name</dt><dd>Hostal San Isidro Oficial</dd>\\n<dt>City</dt><dd>Pisco</dd>\\n<dt>Country</dt><dd>PE</dd>\\n<dt>Current Condition</dt><dd>broken clouds</dd>\\n</dl>\\n',\n",
       " '\\n<dl>\\n<dt>Hotel Name</dt><dd>Hotel Paraná</dd>\\n<dt>City</dt><dd>Jaru</dd>\\n<dt>Country</dt><dd>BR</dd>\\n<dt>Current Condition</dt><dd>overcast clouds</dd>\\n</dl>\\n',\n",
       " '\\n<dl>\\n<dt>Hotel Name</dt><dd>HOTEL FÊNIX</dd>\\n<dt>City</dt><dd>Aracaju</dd>\\n<dt>Country</dt><dd>BR</dd>\\n<dt>Current Condition</dt><dd>scattered clouds</dd>\\n</dl>\\n']"
      ]
     },
     "execution_count": 71,
     "metadata": {},
     "output_type": "execute_result"
    }
   ],
   "source": [
    "# Store the DataFrame Row.\n",
    "hotel_info = [info_box_template.format(**row) for index, row in latin_america_df.iterrows()]\n",
    "hotel_info"
   ]
  },
  {
   "cell_type": "code",
   "execution_count": 78,
   "metadata": {
    "scrolled": true
   },
   "outputs": [
    {
     "data": {
      "application/vnd.jupyter.widget-view+json": {
       "model_id": "dcc454048d804d079f3cc1c69a95d013",
       "version_major": 2,
       "version_minor": 0
      },
      "text/plain": [
       "Figure(layout=FigureLayout(height='420px'))"
      ]
     },
     "metadata": {},
     "output_type": "display_data"
    }
   ],
   "source": [
    "# Add the cities to a marker layer map with a pop-up marker for each city \n",
    "\n",
    "gmaps.configure(api_key=g_key)\n",
    "locations = latin_america_df[[\"Lat\",\"Lng\"]]\n",
    "fig = gmaps.figure(center=(30,30), zoom_level=1.5)\n",
    "route_layer_1 = gmaps.directions_layer(pisco_coordinates[0], Jaru_coordinates[0],\n",
    "                                      travel_mode='DRIVING')\n",
    "route_layer_2 = gmaps.directions_layer(Jaru_coordinates[0], Totness_coordinates[0],\n",
    "                                      travel_mode='DRIVING')\n",
    "route_layer_3 = gmaps.directions_layer(Totness_coordinates[0], Aracaju_coordinates[0],\n",
    "                                      travel_mode='DRIVING')\n",
    "route_layer_4 = gmaps.directions_layer(Aracaju_coordinates[0], pisco_coordinates[0],\n",
    "                                      travel_mode='DRIVING')\n",
    "fig.add_layer(route_layer_1)\n",
    "fig.add_layer(route_layer_2)\n",
    "fig.add_layer(route_layer_3)\n",
    "fig.add_layer(route_layer_4)\n",
    "marker_layer = gmaps.marker_layer(locations, info_box_content = hotel_info)\n",
    "fig.add_layer(marker_layer)\n",
    "# Call the figure to plot the data.\n",
    "fig"
   ]
  },
  {
   "cell_type": "code",
   "execution_count": null,
   "metadata": {},
   "outputs": [],
   "source": []
  },
  {
   "cell_type": "code",
   "execution_count": null,
   "metadata": {},
   "outputs": [],
   "source": []
  }
 ],
 "metadata": {
  "kernelspec": {
   "display_name": "PythonData",
   "language": "python",
   "name": "pythondata"
  },
  "language_info": {
   "codemirror_mode": {
    "name": "ipython",
    "version": 3
   },
   "file_extension": ".py",
   "mimetype": "text/x-python",
   "name": "python",
   "nbconvert_exporter": "python",
   "pygments_lexer": "ipython3",
   "version": "3.7.7"
  }
 },
 "nbformat": 4,
 "nbformat_minor": 4
}
